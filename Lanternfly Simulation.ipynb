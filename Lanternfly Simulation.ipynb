{
  "cells": [
    {
      "cell_type": "code",
      "execution_count": null,
      "metadata": {
        "colab": {
          "background_save": true,
          "base_uri": "https://localhost:8080/"
        },
        "id": "Ehdy0k0tig_o",
        "outputId": "11892bcd-2c73-496a-c492-47c0b17b5926"
      },
      "outputs": [
        {
          "name": "stderr",
          "output_type": "stream",
          "text": [
            "Installing package into ‘/usr/local/lib/R/site-library’\n",
            "(as ‘lib’ is unspecified)\n",
            "\n",
            "also installing the dependencies ‘raster’, ‘sp’, ‘Rcpp’, ‘terra’\n",
            "\n",
            "\n",
            "Installing package into ‘/usr/local/lib/R/site-library’\n",
            "(as ‘lib’ is unspecified)\n",
            "\n",
            "Installing package into ‘/usr/local/lib/R/site-library’\n",
            "(as ‘lib’ is unspecified)\n",
            "\n"
          ]
        }
      ],
      "source": [
        "install.packages(\"dismo\")\n",
        "install.packages(\"ggplot2\")\n",
        "install.packages(\"dplyr\")"
      ]
    },
    {
      "cell_type": "code",
      "execution_count": null,
      "metadata": {
        "colab": {
          "background_save": true
        },
        "id": "mCYQycsViyvO",
        "outputId": "7a27613d-41b8-40f4-8583-bb9246a9d292"
      },
      "outputs": [
        {
          "name": "stderr",
          "output_type": "stream",
          "text": [
            "Loading required package: raster\n",
            "\n",
            "Loading required package: sp\n",
            "\n",
            "The legacy packages maptools, rgdal, and rgeos, underpinning the sp package,\n",
            "which was just loaded, were retired in October 2023.\n",
            "Please refer to R-spatial evolution reports for details, especially\n",
            "https://r-spatial.org/r/2023/05/15/evolution4.html.\n",
            "It may be desirable to make the sf package available;\n",
            "package maintainers should consider adding sf to Suggests:.\n",
            "\n",
            "\n",
            "Attaching package: ‘dplyr’\n",
            "\n",
            "\n",
            "The following objects are masked from ‘package:raster’:\n",
            "\n",
            "    intersect, select, union\n",
            "\n",
            "\n",
            "The following objects are masked from ‘package:stats’:\n",
            "\n",
            "    filter, lag\n",
            "\n",
            "\n",
            "The following objects are masked from ‘package:base’:\n",
            "\n",
            "    intersect, setdiff, setequal, union\n",
            "\n",
            "\n"
          ]
        }
      ],
      "source": [
        "# Load packages\n",
        "library(dismo) # species distribution model (loads raster, sp)\n",
        "library(dplyr) # data manipulation package\n",
        "library(ggplot2) # graphing package"
      ]
    },
    {
      "cell_type": "code",
      "execution_count": null,
      "metadata": {
        "colab": {
          "background_save": true
        },
        "id": "b-nmpFr5i1vx",
        "outputId": "e939457d-00af-4be1-d2a2-5334824698cd"
      },
      "outputs": [
        {
          "name": "stderr",
          "output_type": "stream",
          "text": [
            "Warning message in file(file, \"rt\"):\n",
            "“cannot open file './test_lanternfly_data.csv': No such file or directory”\n"
          ]
        },
        {
          "ename": "ERROR",
          "evalue": "ignored",
          "output_type": "error",
          "traceback": [
            "Error in file(file, \"rt\"): cannot open the connection\nTraceback:\n",
            "1. read.csv(\"./test_lanternfly_data.csv\")",
            "2. read.table(file = file, header = header, sep = sep, quote = quote, \n .     dec = dec, fill = fill, comment.char = comment.char, ...)",
            "3. file(file, \"rt\")"
          ]
        }
      ],
      "source": [
        "# Load current environmental data\n",
        "lanternfly_data = read.csv(\"./test_lanternfly_data.csv\")\n",
        "env_data_current = stack(\"./env_current.grd\")\n",
        "env_data_forecast = stack(\"./env_forecast.grd\")"
      ]
    },
    {
      "cell_type": "code",
      "execution_count": null,
      "metadata": {
        "id": "wMbm1mvJi6JX"
      },
      "outputs": [],
      "source": [
        "# tmin : min temperatures\n",
        "# precip : precipitations\n",
        "plot(env_data_current$tmin) # outputs a raster map on min temperatures\n",
        "plot(env_data_current$precip) # outputs a raster map on precipitation"
      ]
    },
    {
      "cell_type": "code",
      "execution_count": null,
      "metadata": {
        "id": "Kvkb64I2i9fC"
      },
      "outputs": [],
      "source": [
        "# BACKGROUND DATA : Randomly generated absence data\n",
        "# raster layer to sample from\n",
        "mask <- raster(\"./env_current.grd\")\n",
        "# set seed to assure that the dataset will always have the same random sample.\n",
        "set.seed(1963)\n",
        "\n",
        "# set coordinate limits to USA\n",
        "e <- extent(-140, -50, 25, 60)\n",
        "\n",
        "# select 17731 random points\n",
        "bg <- randomPoints(mask, 17731, ext=e)\n",
        "bg = as.data.frame(bg)\n",
        "\n",
        "# rename the columns and add the two that aren't present\n",
        "colnames(bg)[colnames(bg) == \"x\"] <- \"lon\"\n",
        "colnames(bg)[colnames(bg) == \"y\"] <- \"lat\"\n",
        "bg['present'] <- 0\n",
        "bg['ObsDate'] <- 0\n",
        "\n",
        "# put columns in right order\n",
        "bg <- bg[, c(\"ObsDate\", \"lat\", \"lon\", \"present\")]\n",
        "\n",
        "# bind random absence data with presence data\n",
        "lanternfly_data = rbind(lanternfly_data, bg)"
      ]
    },
    {
      "cell_type": "code",
      "execution_count": null,
      "metadata": {
        "id": "Aa1Nl5JFjO_R"
      },
      "outputs": [],
      "source": [
        "# select just the location columns data:\n",
        "lanternfly_locations = select(lanternfly_data, lon, lat)\n",
        "# use extract function with current environment data and locations where we want to extract our data\n",
        "lanternfly_env = extract(env_data_current, lanternfly_locations)\n",
        "# bind together as columns our current warb data with our current environmental conditions data\n",
        "lanternfly_data = cbind(lanternfly_data, lanternfly_env)\n",
        "\n",
        "# Plot our current warb data, with temperature (x) and precipitation (y) and presence of warbs (color [darker - absent, lighter - present])\n",
        "# species likes higher temperature and precipitation\n",
        "ggplot(lanternfly_data, mapping = aes(x = tmin,\n",
        "                                       y = precip,\n",
        "                                       color = present)) + geom_point()"
      ]
    },
    {
      "cell_type": "code",
      "execution_count": null,
      "metadata": {
        "id": "Z3Lmh_nzjP1W"
      },
      "outputs": [],
      "source": [
        "# 5. Build a species distribution model: multivariate logistic regression model\n",
        "# takes in the model to be used (present var as response) related to tmin and precip variables\n",
        "# family model ~ binomial family with link logistic to model the data\n",
        "logistic_regr_model = glm(present ~ tmin + precip,\n",
        "                          family = binomial(link = \"logit\"),\n",
        "                          data = lanternfly_data)\n",
        "\n",
        "# Summary of logistic regression model\n",
        "summary(logistic_regr_model)\n",
        "\n",
        "# split our data between presences and absences\n",
        "presence_data = filter(lanternfly_data, present == 1)\n",
        "absence_data = filter(lanternfly_data, present == 0)\n",
        "\n",
        "# use evaluate function to calculate model performance (ROC curve evaluation: true positives, false positives)\n",
        "evaluation = evaluate(presence_data,\n",
        "                      absence_data,\n",
        "                      logistic_regr_model)\n",
        "plot(evaluation, 'ROC')"
      ]
    },
    {
      "cell_type": "code",
      "execution_count": null,
      "metadata": {
        "id": "zM4DUyeSjUwS"
      },
      "outputs": [],
      "source": [
        "# Spacial prediction environmental conditions to make predictions on + regression model + type of display (probs)\n",
        "predictions = predict(env_data_current,\n",
        "                      logistic_regr_model,\n",
        "                      type = \"response\")\n",
        "\n",
        "# 6. Plot prediction for the USA\n",
        "plot(predictions, ext = extent(-140, -50, 25, 60))\n",
        "points(presence_data[c(\"lon\", \"lat\")], pch = \"+\", cex = 0.5)\n",
        "\n",
        "# Predict locations likely to exist - plot predicted species range\n",
        "plot(predictions > 0.5, ext = extent(-140, -50, 25, 60))"
      ]
    },
    {
      "cell_type": "code",
      "execution_count": null,
      "metadata": {
        "id": "w-V2GMPZjfe2"
      },
      "outputs": [],
      "source": [
        "# Select the appropriate threshold value  and plot the prediction of locations where warbs are likely to exist\n",
        "tr = threshold(evaluation, stat = 'prevalence')\n",
        "plot(predictions > tr, ext = extent(-140, -50, 25, 60))\n",
        "points(presence_data[c(\"lon\", \"lat\")], pch = \"+\", cex = 0.5)"
      ]
    },
    {
      "cell_type": "code",
      "execution_count": null,
      "metadata": {
        "id": "5hj1ZqEHjiY8"
      },
      "outputs": [],
      "source": [
        "# 7. Make forecasts using future environmental data using a logistic regression model\n",
        "forecasts = predict(env_data_forecast,\n",
        "                    logistic_regr_model,\n",
        "                    type = \"response\")\n",
        "\n",
        "# plot forecast model in the USA with the calculated threshold\n",
        "plot(forecasts, ext = extent(-140, -50, 25, 60))\n",
        "plot(forecasts > tr, ext = extent(-140, -50, 25, 60))\n",
        "\n",
        "# Observe predicted changes in probabilities over the next 50 years\n",
        "plot(forecasts - predictions, ext = extent(-140, -50, 25, 60))"
      ]
    }
  ],
  "metadata": {
    "colab": {
      "provenance": []
    },
    "kernelspec": {
      "display_name": "R",
      "name": "ir"
    },
    "language_info": {
      "name": "R"
    }
  },
  "nbformat": 4,
  "nbformat_minor": 0
}